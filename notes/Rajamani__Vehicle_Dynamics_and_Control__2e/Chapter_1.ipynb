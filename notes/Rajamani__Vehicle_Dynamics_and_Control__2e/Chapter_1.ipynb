{
 "cells": [
  {
   "cell_type": "markdown",
   "metadata": {},
   "source": [
    "# Chapter 1\n",
    "\n",
    "Rajamani Vehicle Dynamics and Control 2nd Edition\n",
    "\n",
    "[link](/blog/pages/notes/Rajamani__Vehicle_Dynamics_and_Control__2e/Chapter_1.html)"
   ]
  },
  {
   "cell_type": "markdown",
   "metadata": {},
   "source": [
    "## Driver Assistance Systems"
   ]
  },
  {
   "cell_type": "markdown",
   "metadata": {},
   "source": [
    "## Active Stability Control Systems\n",
    "\n",
    "### Yaw Stability\n",
    "\n",
    "Chapter 8\n",
    "\n",
    "Normally achieved by differential braking. Also possible by steer-by-wire or active torque distribution\n",
    "\n",
    "### Roll Stability\n",
    "\n",
    "Chapter 15\n",
    "\n",
    "Achieved by differential braking or \"stabilizer bar\" in the suspension"
   ]
  },
  {
   "cell_type": "markdown",
   "metadata": {},
   "source": [
    "## Ride Quality\n",
    "\n",
    "Design discussed in Chapters 6, 7 and 8\n",
    "\n",
    "Active actuators in the suspension\n",
    "\n",
    "E.g. fully active suspension in F1 by Lotus Engineering (Wright and Williams 1984)\n",
    "\n",
    "E.g. semi-active suspension in Corvette called MagneRide, which actively changes damping and stiffness in the shocks\n",
    "\n",
    "Also, active stabilizer bars to reduce roll in cornering\n",
    "\n",
    "### References\n",
    "\n",
    "- (Wright and Williams 1984) Wright, P.G. and Williams, D.A. \"The application of active suspension to high performance road vehicles,\" Microprocessors in Fluid Engineering, Institute of Mechanical Engineers Conference, 1984.\n",
    "    - Unfortunately it seems that this is not available online"
   ]
  },
  {
   "cell_type": "markdown",
   "metadata": {},
   "source": [
    "## Traffic Congestion\n",
    "\n",
    "### Automated Highway Systems\n",
    "\n",
    "### Traffic Friendly Adaptive Cruise Control\n",
    "\n",
    "Design considerations for ACC in Chapter 6\n",
    "\n",
    "### Half-width cars\n",
    "\n",
    "Use electronic roll control to make them as stable as normal cars but take less highway footprint"
   ]
  },
  {
   "cell_type": "markdown",
   "metadata": {},
   "source": [
    "## Emissions and Fuel Economy\n",
    "\n",
    "Feedback control systems in cars: fuel injection, exhaust gas re-circulation (EGR), internal EGR, camless engine valves (see [Koenigsegg's use](https://www.topgear.com/car-news/future-tech/heres-how-koenigsegg-gemeras-600bhp-camless-engine-works) of [Freevalve](https://www.freevalve.com/) ), homogeneous charge compression ignition (HCCI)\n",
    "\n",
    "### Hybrids\n",
    "\n",
    "### Fuel Cell Vehicles"
   ]
  },
  {
   "cell_type": "markdown",
   "metadata": {},
   "source": [
    "# Modelling Ideas\n",
    "\n",
    "## Braking\n",
    "\n",
    "- Front / back bias selection of pneumatic only braking\n",
    "- Independent differential control of braking\n",
    "- ABS\n",
    "\n",
    "## Suspension\n",
    "\n",
    "- springs\n",
    "- dampers\n",
    "- roll bar\n",
    "- active roll stiffness / stabilizer bar\n",
    "- variable shock stiffness / damping\n",
    "\n",
    "## Steering\n",
    "\n",
    "- Rack and pinion\n",
    "- Steer by wire\n",
    "\n",
    "Q: Do I need some sort of geometry solver? Maybe yak shaving but it'd be nice to just put constraints on linkages for the suspension and motion model and let something else do the solving. Probably slower to run than a custom implementation, but the effort to improve the model should be easier than re-implementing things. Suspension geometry and steering inputs are almost certainly non-linear.\n",
    "\n",
    "## Engine\n",
    "\n",
    "- Fuel injection controls\n",
    "- Carburetor fuel system\n",
    "- Intake air system\n",
    "- Exhaust air system\n",
    "- Valve airflow\n",
    "- Cam systems\n",
    "- Camless valve systems\n",
    "- Exhaust gas re-circulation\n",
    "- Cylinder Head Airflow\n",
    "- Cylinder pressures\n",
    "    - combination of calculations and mappings for reactions\n",
    "- Knock / compression ignition\n",
    "\n",
    "### Sensors\n",
    "\n",
    "- Emissions sensors\n",
    "- Mass air flow sensors\n",
    "\n",
    "## Hybrid / Electric Motors\n",
    "\n",
    "- parallel hybrid\n",
    "- series hybrid\n",
    "- electric only drive system\n",
    "\n",
    "## Drive System\n",
    "\n",
    "- Open Differential\n",
    "- Closed / Locked Differential\n",
    "- Limited Slip Differential\n",
    "- Active Torque Distribution (via differential?)\n",
    "\n",
    "## Chassis\n",
    "\n",
    "- Basic models of metal flex?\n",
    "    - Shock tower reinforcement\n",
    "- Weight due to passengers\n",
    "- Weight due to fuel consumption\n",
    "- Modular functionality to assign weight locations for different major components"
   ]
  },
  {
   "cell_type": "markdown",
   "metadata": {},
   "source": [
    "See Also, LaTeX rendering\n",
    "\n",
    "[Example Source](https://nbviewer.jupyter.org/github/ipython/ipython/blob/2.x/examples/Notebook/Display%20System.ipynb#LaTeX)"
   ]
  },
  {
   "cell_type": "code",
   "execution_count": 6,
   "metadata": {},
   "outputs": [
    {
     "data": {
      "text/latex": [
       "\\begin{align}\n",
       "\\nabla \\times \\vec{\\mathbf{B}} -\\, \\frac1c\\, \\frac{\\partial\\vec{\\mathbf{E}}}{\\partial t} & = \\frac{4\\pi}{c}\\vec{\\mathbf{j}} \\\\\n",
       "\\nabla \\cdot \\vec{\\mathbf{E}} & = 4 \\pi \\rho \\\\\n",
       "\\nabla \\times \\vec{\\mathbf{E}}\\, +\\, \\frac1c\\, \\frac{\\partial\\vec{\\mathbf{B}}}{\\partial t} & = \\vec{\\mathbf{0}} \\\\\n",
       "\\nabla \\cdot \\vec{\\mathbf{B}} & = 0\n",
       "\\end{align}\n"
      ],
      "text/plain": [
       "<IPython.core.display.Latex object>"
      ]
     },
     "metadata": {},
     "output_type": "display_data"
    }
   ],
   "source": [
    "%%latex\n",
    "\\begin{align}\n",
    "\\nabla \\times \\vec{\\mathbf{B}} -\\, \\frac1c\\, \\frac{\\partial\\vec{\\mathbf{E}}}{\\partial t} & = \\frac{4\\pi}{c}\\vec{\\mathbf{j}} \\\\\n",
    "\\nabla \\cdot \\vec{\\mathbf{E}} & = 4 \\pi \\rho \\\\\n",
    "\\nabla \\times \\vec{\\mathbf{E}}\\, +\\, \\frac1c\\, \\frac{\\partial\\vec{\\mathbf{B}}}{\\partial t} & = \\vec{\\mathbf{0}} \\\\\n",
    "\\nabla \\cdot \\vec{\\mathbf{B}} & = 0\n",
    "\\end{align}"
   ]
  },
  {
   "cell_type": "code",
   "execution_count": null,
   "metadata": {},
   "outputs": [],
   "source": []
  }
 ],
 "metadata": {
  "kernelspec": {
   "display_name": "Python 3",
   "language": "python",
   "name": "python3"
  },
  "language_info": {
   "codemirror_mode": {
    "name": "ipython",
    "version": 3
   },
   "file_extension": ".py",
   "mimetype": "text/x-python",
   "name": "python",
   "nbconvert_exporter": "python",
   "pygments_lexer": "ipython3",
   "version": "3.6.9"
  }
 },
 "nbformat": 4,
 "nbformat_minor": 4
}
